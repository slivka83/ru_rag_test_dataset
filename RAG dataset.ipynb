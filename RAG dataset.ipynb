{
 "cells": [
  {
   "cell_type": "code",
   "execution_count": 5,
   "id": "1cfc5577",
   "metadata": {
    "ExecuteTime": {
     "end_time": "2024-04-05T06:58:33.938588Z",
     "start_time": "2024-04-05T06:58:33.935390Z"
    }
   },
   "outputs": [],
   "source": [
    "import pandas as pd\n",
    "from langchain_community.document_loaders import SeleniumURLLoader\n",
    "from tqdm.auto import tqdm\n",
    "import time\n",
    "import os"
   ]
  },
  {
   "cell_type": "code",
   "execution_count": 3,
   "id": "03303b19",
   "metadata": {
    "ExecuteTime": {
     "end_time": "2024-04-05T06:58:08.798835Z",
     "start_time": "2024-04-05T06:58:08.330313Z"
    },
    "scrolled": true
   },
   "outputs": [],
   "source": [
    "# https://raw.githubusercontent.com/vladislavneon/RuBQ/master/RuBQ_2.0/RuBQ_2.0_test.json\n",
    "df_test = pd.read_json('raw/RuBQ_2.0_test.json')\n",
    "# https://raw.githubusercontent.com/vladislavneon/RuBQ/master/RuBQ_2.0/RuBQ_2.0_paragraphs.json\n",
    "df_prg = pd.read_json('raw/RuBQ_2.0_paragraphs.json')"
   ]
  },
  {
   "cell_type": "code",
   "execution_count": null,
   "id": "ba1bc7d9",
   "metadata": {
    "ExecuteTime": {
     "end_time": "2024-04-05T08:53:32.210992Z",
     "start_time": "2024-04-05T06:59:42.776439Z"
    },
    "scrolled": true
   },
   "outputs": [],
   "source": [
    "df_rag = []\n",
    "for idx, row in tqdm(df_test.iterrows(), total=df_test.shape[0]):\n",
    "    try:\n",
    "        if len(row['paragraphs_uids']['with_answer']) == 1:\n",
    "            print(row['question_text'])\n",
    "            print(row['answer_text'])\n",
    "            p_id = row['paragraphs_uids']['with_answer'][0]\n",
    "            prg = df_prg.query(f'uid == {p_id}')\n",
    "            prg_text = prg['text'].values[0]\n",
    "            prg_link = prg['ru_wiki_pageid'].values[0]\n",
    "            print(prg_text)\n",
    "            print('==================')\n",
    "            print()\n",
    "            \n",
    "            fname = f'{prg_link}.txt'\n",
    "            if not os.path.isfile(f\"files/{fname}\"):\n",
    "                loader = SeleniumURLLoader(urls=[f'https://ru.wikipedia.org/?curid={prg_link}'])\n",
    "                data = loader.load()\n",
    "                content = data[0].page_content\n",
    "                with open(f\"files/{fname}\", \"w\", encoding=\"utf-8\") as f:\n",
    "                    f.write(content)\n",
    "\n",
    "            df_rag.append([row['question_text'], row['answer_text'], prg_text, f'{prg_link}.txt'])\n",
    "    except:\n",
    "        print(f'Ошибка: {idx}')\n",
    "    \n",
    "    time.sleep(1)\n",
    "    \n",
    "df_rag = pd.DataFrame(df_rag)\n",
    "df_rag.columns = ['Вопрос','Правильный ответ','Контекст','Файл']"
   ]
  },
  {
   "cell_type": "code",
   "execution_count": 14,
   "id": "f5a96062",
   "metadata": {
    "ExecuteTime": {
     "end_time": "2024-04-05T09:07:30.657464Z",
     "start_time": "2024-04-05T09:07:30.650449Z"
    }
   },
   "outputs": [
    {
     "data": {
      "text/html": [
       "<div>\n",
       "<style scoped>\n",
       "    .dataframe tbody tr th:only-of-type {\n",
       "        vertical-align: middle;\n",
       "    }\n",
       "\n",
       "    .dataframe tbody tr th {\n",
       "        vertical-align: top;\n",
       "    }\n",
       "\n",
       "    .dataframe thead th {\n",
       "        text-align: right;\n",
       "    }\n",
       "</style>\n",
       "<table border=\"1\" class=\"dataframe\">\n",
       "  <thead>\n",
       "    <tr style=\"text-align: right;\">\n",
       "      <th></th>\n",
       "      <th>Вопрос</th>\n",
       "      <th>Правильный ответ</th>\n",
       "      <th>Контекст</th>\n",
       "      <th>Файл</th>\n",
       "    </tr>\n",
       "  </thead>\n",
       "  <tbody>\n",
       "    <tr>\n",
       "      <th>0</th>\n",
       "      <td>Что может вызвать цунами?</td>\n",
       "      <td>Землетрясение</td>\n",
       "      <td>Землетрясения, извержения вулканов и другие по...</td>\n",
       "      <td>19985.txt</td>\n",
       "    </tr>\n",
       "    <tr>\n",
       "      <th>1</th>\n",
       "      <td>Кто написал роман «Хижина дяди Тома»?</td>\n",
       "      <td>Г. Бичер-Стоу</td>\n",
       "      <td>«Хижина дяди Тома» (англ. Uncle Tom's Cabin) —...</td>\n",
       "      <td>273921.txt</td>\n",
       "    </tr>\n",
       "    <tr>\n",
       "      <th>2</th>\n",
       "      <td>Кто создал Зимний дворец в Санкт-Петербурге?</td>\n",
       "      <td>Растрелли</td>\n",
       "      <td>Зимний дворец (в 1918—1943 годах — Дворец Иску...</td>\n",
       "      <td>50.txt</td>\n",
       "    </tr>\n",
       "    <tr>\n",
       "      <th>3</th>\n",
       "      <td>Какое современное государство занимает террито...</td>\n",
       "      <td>Ирак</td>\n",
       "      <td>Нине́ви́я или Нин (аккад. 𒌷𒉌𒉡𒀀, Ninwe; ассир. ...</td>\n",
       "      <td>36300.txt</td>\n",
       "    </tr>\n",
       "    <tr>\n",
       "      <th>4</th>\n",
       "      <td>Как звали отца Северуса Снейпа?</td>\n",
       "      <td>Тоббиас Снегг (Снейп)</td>\n",
       "      <td>Происхождение Снегга в основном стало известно...</td>\n",
       "      <td>172300.txt</td>\n",
       "    </tr>\n",
       "    <tr>\n",
       "      <th>...</th>\n",
       "      <td>...</td>\n",
       "      <td>...</td>\n",
       "      <td>...</td>\n",
       "      <td>...</td>\n",
       "    </tr>\n",
       "    <tr>\n",
       "      <th>919</th>\n",
       "      <td>На какой реке стоит Череповец?</td>\n",
       "      <td>Шексна</td>\n",
       "      <td>Пятый гидроузел — Шекснинский (Череповецкий) Ш...</td>\n",
       "      <td>42745.txt</td>\n",
       "    </tr>\n",
       "    <tr>\n",
       "      <th>920</th>\n",
       "      <td>Какая страна является победителем Чемпионата м...</td>\n",
       "      <td>Германия</td>\n",
       "      <td>Магдале́на Но́йнер (нем. Magdalena Neuner; род...</td>\n",
       "      <td>400782.txt</td>\n",
       "    </tr>\n",
       "    <tr>\n",
       "      <th>921</th>\n",
       "      <td>Кто спроектировал Mercedes-AMG GT?</td>\n",
       "      <td>Роберт Лесник, Марк Фетерстон, Ян Кауль</td>\n",
       "      <td>Автомобиль Mercedes-Benz SLS AMG имеет длину в...</td>\n",
       "      <td>1989102.txt</td>\n",
       "    </tr>\n",
       "    <tr>\n",
       "      <th>922</th>\n",
       "      <td>Какова высота Биг Бена?</td>\n",
       "      <td>96</td>\n",
       "      <td>Высота башни, включая шпиль — 96 метров (315 ф...</td>\n",
       "      <td>329717.txt</td>\n",
       "    </tr>\n",
       "    <tr>\n",
       "      <th>923</th>\n",
       "      <td>Какой высоты Храм Христа Спасителя?</td>\n",
       "      <td>103</td>\n",
       "      <td>На 2018 год храм Христа Спасителя является сам...</td>\n",
       "      <td>99288.txt</td>\n",
       "    </tr>\n",
       "  </tbody>\n",
       "</table>\n",
       "<p>924 rows × 4 columns</p>\n",
       "</div>"
      ],
      "text/plain": [
       "                                                Вопрос  \\\n",
       "0                            Что может вызвать цунами?   \n",
       "1                Кто написал роман «Хижина дяди Тома»?   \n",
       "2         Кто создал Зимний дворец в Санкт-Петербурге?   \n",
       "3    Какое современное государство занимает террито...   \n",
       "4                      Как звали отца Северуса Снейпа?   \n",
       "..                                                 ...   \n",
       "919                     На какой реке стоит Череповец?   \n",
       "920  Какая страна является победителем Чемпионата м...   \n",
       "921                 Кто спроектировал Mercedes-AMG GT?   \n",
       "922                            Какова высота Биг Бена?   \n",
       "923                Какой высоты Храм Христа Спасителя?   \n",
       "\n",
       "                            Правильный ответ  \\\n",
       "0                              Землетрясение   \n",
       "1                              Г. Бичер-Стоу   \n",
       "2                                  Растрелли   \n",
       "3                                       Ирак   \n",
       "4                      Тоббиас Снегг (Снейп)   \n",
       "..                                       ...   \n",
       "919                                   Шексна   \n",
       "920                                 Германия   \n",
       "921  Роберт Лесник, Марк Фетерстон, Ян Кауль   \n",
       "922                                       96   \n",
       "923                                      103   \n",
       "\n",
       "                                              Контекст         Файл  \n",
       "0    Землетрясения, извержения вулканов и другие по...    19985.txt  \n",
       "1    «Хижина дяди Тома» (англ. Uncle Tom's Cabin) —...   273921.txt  \n",
       "2    Зимний дворец (в 1918—1943 годах — Дворец Иску...       50.txt  \n",
       "3    Нине́ви́я или Нин (аккад. 𒌷𒉌𒉡𒀀, Ninwe; ассир. ...    36300.txt  \n",
       "4    Происхождение Снегга в основном стало известно...   172300.txt  \n",
       "..                                                 ...          ...  \n",
       "919  Пятый гидроузел — Шекснинский (Череповецкий) Ш...    42745.txt  \n",
       "920  Магдале́на Но́йнер (нем. Magdalena Neuner; род...   400782.txt  \n",
       "921  Автомобиль Mercedes-Benz SLS AMG имеет длину в...  1989102.txt  \n",
       "922  Высота башни, включая шпиль — 96 метров (315 ф...   329717.txt  \n",
       "923  На 2018 год храм Христа Спасителя является сам...    99288.txt  \n",
       "\n",
       "[924 rows x 4 columns]"
      ]
     },
     "execution_count": 14,
     "metadata": {},
     "output_type": "execute_result"
    }
   ],
   "source": [
    "df_rag"
   ]
  },
  {
   "cell_type": "code",
   "execution_count": 15,
   "id": "ba585d72",
   "metadata": {
    "ExecuteTime": {
     "end_time": "2024-04-05T09:09:02.452666Z",
     "start_time": "2024-04-05T09:09:02.440638Z"
    }
   },
   "outputs": [],
   "source": [
    "df_rag.to_pickle('ru_rag_test_dataset.pkl')"
   ]
  },
  {
   "cell_type": "code",
   "execution_count": null,
   "id": "06d4a4e1",
   "metadata": {},
   "outputs": [],
   "source": []
  }
 ],
 "metadata": {
  "kernelspec": {
   "display_name": "Python 3 (ipykernel)",
   "language": "python",
   "name": "python3"
  },
  "language_info": {
   "codemirror_mode": {
    "name": "ipython",
    "version": 3
   },
   "file_extension": ".py",
   "mimetype": "text/x-python",
   "name": "python",
   "nbconvert_exporter": "python",
   "pygments_lexer": "ipython3",
   "version": "3.11.5"
  },
  "toc": {
   "base_numbering": 1,
   "nav_menu": {},
   "number_sections": true,
   "sideBar": true,
   "skip_h1_title": false,
   "title_cell": "Table of Contents",
   "title_sidebar": "Contents",
   "toc_cell": false,
   "toc_position": {},
   "toc_section_display": true,
   "toc_window_display": false
  }
 },
 "nbformat": 4,
 "nbformat_minor": 5
}
